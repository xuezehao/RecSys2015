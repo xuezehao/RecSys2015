{
 "cells": [
  {
   "cell_type": "code",
   "execution_count": 2,
   "metadata": {
    "collapsed": true
   },
   "outputs": [],
   "source": [
    "import pandas as pd\n",
    "import numpy as np\n",
    "import matplotlib.pyplot as plt\n",
    "from datetime import datetime\n",
    "import pickle"
   ]
  },
  {
   "cell_type": "markdown",
   "metadata": {},
   "source": [
    "### Read in Data"
   ]
  },
  {
   "cell_type": "code",
   "execution_count": 3,
   "metadata": {
    "collapsed": false
   },
   "outputs": [
    {
     "name": "stdout",
     "output_type": "stream",
     "text": [
      "Clicks: 33003944\n",
      "Buys: 1150753\n",
      "Elapsed time: 5.68333333333 minutes\n"
     ]
    }
   ],
   "source": [
    "start = datetime.now()\n",
    "\n",
    "buys = pd.read_csv('data/yoochoose-buys.dat',\n",
    "                   header=None,\n",
    "                   names=['session_id','timestamp','item_id','price','quantity'])\n",
    "\n",
    "\n",
    "#clicks = (pd.read_csv('data/yoochoose-clicks.dat',\n",
    "##                     header=None,\n",
    "#                    names = ['session_id','timestamp','item_id','category'])\n",
    "#                    .sort_values('session_id')\n",
    "#                \n",
    "#        )\n",
    "\n",
    "\n",
    "#clicks['timestamp'] = pd.to_datetime(clicks['timestamp'])\n",
    "\n",
    "#From now on just read in the pickle file which has the dataframe above\n",
    "clicks0 = pd.read_pickle('all_clicks_sorted_by_session.pkl')\n",
    "\n",
    "buys['timestamp'] = pd.to_datetime(buys['timestamp'])\n",
    "\n",
    "print 'Clicks: {}'.format(len(clicks0))\n",
    "print 'Buys: {}'.format(len(buys))\n",
    "\n",
    "print 'Elapsed time: {} minutes'.format((datetime.now() - start).seconds / 60.0)"
   ]
  },
  {
   "cell_type": "code",
   "execution_count": 11,
   "metadata": {
    "collapsed": false
   },
   "outputs": [
    {
     "data": {
      "text/plain": [
       "200000"
      ]
     },
     "execution_count": 11,
     "metadata": {},
     "output_type": "execute_result"
    }
   ],
   "source": [
    "clicks = pd.concat([clicks0.iloc[:100000],clicks0.iloc[-100000:]])\n",
    "len(clicks)"
   ]
  },
  {
   "cell_type": "code",
   "execution_count": null,
   "metadata": {
    "collapsed": true
   },
   "outputs": [],
   "source": []
  },
  {
   "cell_type": "markdown",
   "metadata": {},
   "source": [
    "## Part 1: Will a session result in a purchase?\n",
    "### Join clicks and buys session_id and item_id"
   ]
  },
  {
   "cell_type": "code",
   "execution_count": 12,
   "metadata": {
    "collapsed": false
   },
   "outputs": [
    {
     "data": {
      "text/html": [
       "<div>\n",
       "<style scoped>\n",
       "    .dataframe tbody tr th:only-of-type {\n",
       "        vertical-align: middle;\n",
       "    }\n",
       "\n",
       "    .dataframe tbody tr th {\n",
       "        vertical-align: top;\n",
       "    }\n",
       "\n",
       "    .dataframe thead th {\n",
       "        text-align: right;\n",
       "    }\n",
       "</style>\n",
       "<table border=\"1\" class=\"dataframe\">\n",
       "  <thead>\n",
       "    <tr style=\"text-align: right;\">\n",
       "      <th></th>\n",
       "      <th>session_id</th>\n",
       "      <th>item_id</th>\n",
       "      <th>price</th>\n",
       "      <th>quantity</th>\n",
       "    </tr>\n",
       "  </thead>\n",
       "  <tbody>\n",
       "    <tr>\n",
       "      <th>0</th>\n",
       "      <td>11</td>\n",
       "      <td>214821371</td>\n",
       "      <td>1046.0</td>\n",
       "      <td>2</td>\n",
       "    </tr>\n",
       "    <tr>\n",
       "      <th>1</th>\n",
       "      <td>12</td>\n",
       "      <td>214717867</td>\n",
       "      <td>1778.0</td>\n",
       "      <td>4</td>\n",
       "    </tr>\n",
       "    <tr>\n",
       "      <th>2</th>\n",
       "      <td>21</td>\n",
       "      <td>214548744</td>\n",
       "      <td>3141.0</td>\n",
       "      <td>1</td>\n",
       "    </tr>\n",
       "    <tr>\n",
       "      <th>3</th>\n",
       "      <td>21</td>\n",
       "      <td>214838503</td>\n",
       "      <td>18745.0</td>\n",
       "      <td>1</td>\n",
       "    </tr>\n",
       "    <tr>\n",
       "      <th>4</th>\n",
       "      <td>33</td>\n",
       "      <td>214706441</td>\n",
       "      <td>1360.0</td>\n",
       "      <td>2</td>\n",
       "    </tr>\n",
       "  </tbody>\n",
       "</table>\n",
       "</div>"
      ],
      "text/plain": [
       "   session_id    item_id    price  quantity\n",
       "0          11  214821371   1046.0         2\n",
       "1          12  214717867   1778.0         4\n",
       "2          21  214548744   3141.0         1\n",
       "3          21  214838503  18745.0         1\n",
       "4          33  214706441   1360.0         2"
      ]
     },
     "execution_count": 12,
     "metadata": {},
     "output_type": "execute_result"
    }
   ],
   "source": [
    "buys1 = buys.groupby(['session_id','item_id']).agg({'price':np.mean,'quantity':np.sum}).reset_index()\n",
    "buys1.head()"
   ]
  },
  {
   "cell_type": "code",
   "execution_count": 13,
   "metadata": {
    "collapsed": false
   },
   "outputs": [
    {
     "data": {
      "text/plain": [
       "(200000, 6)"
      ]
     },
     "execution_count": 13,
     "metadata": {},
     "output_type": "execute_result"
    }
   ],
   "source": [
    "df = pd.merge(clicks,buys1,how='left',left_on=['session_id','item_id'],right_on=['session_id','item_id'])\n",
    "df.shape"
   ]
  },
  {
   "cell_type": "code",
   "execution_count": 14,
   "metadata": {
    "collapsed": false
   },
   "outputs": [
    {
     "data": {
      "text/html": [
       "<div>\n",
       "<style scoped>\n",
       "    .dataframe tbody tr th:only-of-type {\n",
       "        vertical-align: middle;\n",
       "    }\n",
       "\n",
       "    .dataframe tbody tr th {\n",
       "        vertical-align: top;\n",
       "    }\n",
       "\n",
       "    .dataframe thead th {\n",
       "        text-align: right;\n",
       "    }\n",
       "</style>\n",
       "<table border=\"1\" class=\"dataframe\">\n",
       "  <thead>\n",
       "    <tr style=\"text-align: right;\">\n",
       "      <th></th>\n",
       "      <th>session_id</th>\n",
       "      <th>timestamp</th>\n",
       "      <th>item_id</th>\n",
       "      <th>category</th>\n",
       "      <th>price</th>\n",
       "      <th>quantity</th>\n",
       "    </tr>\n",
       "  </thead>\n",
       "  <tbody>\n",
       "    <tr>\n",
       "      <th>0</th>\n",
       "      <td>1</td>\n",
       "      <td>2014-04-07 10:51:09.277</td>\n",
       "      <td>214536502</td>\n",
       "      <td>0</td>\n",
       "      <td>NaN</td>\n",
       "      <td>NaN</td>\n",
       "    </tr>\n",
       "    <tr>\n",
       "      <th>1</th>\n",
       "      <td>1</td>\n",
       "      <td>2014-04-07 10:54:09.868</td>\n",
       "      <td>214536500</td>\n",
       "      <td>0</td>\n",
       "      <td>NaN</td>\n",
       "      <td>NaN</td>\n",
       "    </tr>\n",
       "    <tr>\n",
       "      <th>2</th>\n",
       "      <td>1</td>\n",
       "      <td>2014-04-07 10:54:46.998</td>\n",
       "      <td>214536506</td>\n",
       "      <td>0</td>\n",
       "      <td>NaN</td>\n",
       "      <td>NaN</td>\n",
       "    </tr>\n",
       "    <tr>\n",
       "      <th>3</th>\n",
       "      <td>1</td>\n",
       "      <td>2014-04-07 10:57:00.306</td>\n",
       "      <td>214577561</td>\n",
       "      <td>0</td>\n",
       "      <td>NaN</td>\n",
       "      <td>NaN</td>\n",
       "    </tr>\n",
       "    <tr>\n",
       "      <th>4</th>\n",
       "      <td>2</td>\n",
       "      <td>2014-04-07 13:56:37.614</td>\n",
       "      <td>214662742</td>\n",
       "      <td>0</td>\n",
       "      <td>NaN</td>\n",
       "      <td>NaN</td>\n",
       "    </tr>\n",
       "  </tbody>\n",
       "</table>\n",
       "</div>"
      ],
      "text/plain": [
       "   session_id               timestamp    item_id category  price  quantity\n",
       "0           1 2014-04-07 10:51:09.277  214536502        0    NaN       NaN\n",
       "1           1 2014-04-07 10:54:09.868  214536500        0    NaN       NaN\n",
       "2           1 2014-04-07 10:54:46.998  214536506        0    NaN       NaN\n",
       "3           1 2014-04-07 10:57:00.306  214577561        0    NaN       NaN\n",
       "4           2 2014-04-07 13:56:37.614  214662742        0    NaN       NaN"
      ]
     },
     "execution_count": 14,
     "metadata": {},
     "output_type": "execute_result"
    }
   ],
   "source": [
    "df.head()"
   ]
  },
  {
   "cell_type": "code",
   "execution_count": null,
   "metadata": {
    "collapsed": false
   },
   "outputs": [],
   "source": []
  },
  {
   "cell_type": "code",
   "execution_count": null,
   "metadata": {
    "collapsed": false
   },
   "outputs": [],
   "source": []
  },
  {
   "cell_type": "markdown",
   "metadata": {},
   "source": [
    "### Create Features"
   ]
  },
  {
   "cell_type": "code",
   "execution_count": 15,
   "metadata": {
    "collapsed": false
   },
   "outputs": [],
   "source": [
    "# Need to transform category\n",
    "# Assuming that a float 0 and str 0 in the data are the same thing\n",
    "# Assuming that length of 7 for category is just Brand\n",
    "# There should be none named 'Error' if there is, need to manually inspect\n",
    "def get_category(cat):\n",
    "    cat = str(cat)\n",
    "    if cat == \"0\":\n",
    "        return \"No Category\"\n",
    "    elif cat == \"S\":\n",
    "        return \"Special Offer\"\n",
    "    elif int(cat) > 0 and int(cat) < 13:\n",
    "        return 'Regular Category'\n",
    "    elif len(cat) > 6 and len(cat) < 11:\n",
    "        return \"Brand\"\n",
    "    return \"Error\"\n",
    "\n",
    "df['category1'] = df['category'].apply(lambda x: get_category(x))"
   ]
  },
  {
   "cell_type": "code",
   "execution_count": null,
   "metadata": {
    "collapsed": false
   },
   "outputs": [],
   "source": []
  },
  {
   "cell_type": "code",
   "execution_count": 16,
   "metadata": {
    "collapsed": false
   },
   "outputs": [
    {
     "data": {
      "text/html": [
       "<div>\n",
       "<style scoped>\n",
       "    .dataframe tbody tr th:only-of-type {\n",
       "        vertical-align: middle;\n",
       "    }\n",
       "\n",
       "    .dataframe tbody tr th {\n",
       "        vertical-align: top;\n",
       "    }\n",
       "\n",
       "    .dataframe thead th {\n",
       "        text-align: right;\n",
       "    }\n",
       "</style>\n",
       "<table border=\"1\" class=\"dataframe\">\n",
       "  <thead>\n",
       "    <tr style=\"text-align: right;\">\n",
       "      <th></th>\n",
       "      <th>session_id</th>\n",
       "      <th>timestamp</th>\n",
       "      <th>item_id</th>\n",
       "      <th>category</th>\n",
       "      <th>price</th>\n",
       "      <th>quantity</th>\n",
       "      <th>category1</th>\n",
       "      <th>Brand</th>\n",
       "      <th>No Category</th>\n",
       "      <th>Regular Category</th>\n",
       "      <th>Special Offer</th>\n",
       "    </tr>\n",
       "  </thead>\n",
       "  <tbody>\n",
       "    <tr>\n",
       "      <th>0</th>\n",
       "      <td>1</td>\n",
       "      <td>2014-04-07 10:51:09.277</td>\n",
       "      <td>214536502</td>\n",
       "      <td>0</td>\n",
       "      <td>NaN</td>\n",
       "      <td>NaN</td>\n",
       "      <td>No Category</td>\n",
       "      <td>0</td>\n",
       "      <td>1</td>\n",
       "      <td>0</td>\n",
       "      <td>0</td>\n",
       "    </tr>\n",
       "    <tr>\n",
       "      <th>1</th>\n",
       "      <td>1</td>\n",
       "      <td>2014-04-07 10:54:09.868</td>\n",
       "      <td>214536500</td>\n",
       "      <td>0</td>\n",
       "      <td>NaN</td>\n",
       "      <td>NaN</td>\n",
       "      <td>No Category</td>\n",
       "      <td>0</td>\n",
       "      <td>1</td>\n",
       "      <td>0</td>\n",
       "      <td>0</td>\n",
       "    </tr>\n",
       "    <tr>\n",
       "      <th>2</th>\n",
       "      <td>1</td>\n",
       "      <td>2014-04-07 10:54:46.998</td>\n",
       "      <td>214536506</td>\n",
       "      <td>0</td>\n",
       "      <td>NaN</td>\n",
       "      <td>NaN</td>\n",
       "      <td>No Category</td>\n",
       "      <td>0</td>\n",
       "      <td>1</td>\n",
       "      <td>0</td>\n",
       "      <td>0</td>\n",
       "    </tr>\n",
       "    <tr>\n",
       "      <th>3</th>\n",
       "      <td>1</td>\n",
       "      <td>2014-04-07 10:57:00.306</td>\n",
       "      <td>214577561</td>\n",
       "      <td>0</td>\n",
       "      <td>NaN</td>\n",
       "      <td>NaN</td>\n",
       "      <td>No Category</td>\n",
       "      <td>0</td>\n",
       "      <td>1</td>\n",
       "      <td>0</td>\n",
       "      <td>0</td>\n",
       "    </tr>\n",
       "    <tr>\n",
       "      <th>4</th>\n",
       "      <td>2</td>\n",
       "      <td>2014-04-07 13:56:37.614</td>\n",
       "      <td>214662742</td>\n",
       "      <td>0</td>\n",
       "      <td>NaN</td>\n",
       "      <td>NaN</td>\n",
       "      <td>No Category</td>\n",
       "      <td>0</td>\n",
       "      <td>1</td>\n",
       "      <td>0</td>\n",
       "      <td>0</td>\n",
       "    </tr>\n",
       "  </tbody>\n",
       "</table>\n",
       "</div>"
      ],
      "text/plain": [
       "   session_id               timestamp    item_id category  price  quantity  \\\n",
       "0           1 2014-04-07 10:51:09.277  214536502        0    NaN       NaN   \n",
       "1           1 2014-04-07 10:54:09.868  214536500        0    NaN       NaN   \n",
       "2           1 2014-04-07 10:54:46.998  214536506        0    NaN       NaN   \n",
       "3           1 2014-04-07 10:57:00.306  214577561        0    NaN       NaN   \n",
       "4           2 2014-04-07 13:56:37.614  214662742        0    NaN       NaN   \n",
       "\n",
       "     category1  Brand  No Category  Regular Category  Special Offer  \n",
       "0  No Category      0            1                 0              0  \n",
       "1  No Category      0            1                 0              0  \n",
       "2  No Category      0            1                 0              0  \n",
       "3  No Category      0            1                 0              0  \n",
       "4  No Category      0            1                 0              0  "
      ]
     },
     "execution_count": 16,
     "metadata": {},
     "output_type": "execute_result"
    }
   ],
   "source": [
    "#This is what the df looks like after creating a dummy columns for categories\n",
    "\n",
    "df = pd.concat([df,pd.get_dummies(df['category1'])],axis=1)\n",
    "df.head()"
   ]
  },
  {
   "cell_type": "code",
   "execution_count": null,
   "metadata": {
    "collapsed": false
   },
   "outputs": [],
   "source": []
  },
  {
   "cell_type": "code",
   "execution_count": 17,
   "metadata": {
    "collapsed": true
   },
   "outputs": [],
   "source": [
    "#### Create some feature. Since we need to just predict whether a session will result in a buy or not, we \n",
    "#### roll up the data to session level and do some aggregations. The resulting features are: \n",
    "#### total clicks, unique items looked at, duration of session, unique categories looked at, total clicks for\n",
    "#### each category, and our target- whether or not any purchase was made"
   ]
  },
  {
   "cell_type": "code",
   "execution_count": 18,
   "metadata": {
    "collapsed": false
   },
   "outputs": [
    {
     "name": "stdout",
     "output_type": "stream",
     "text": [
      "Elapsed time: 0.466666666667 minutes\n"
     ]
    }
   ],
   "source": [
    "start = datetime.now()\n",
    "group1 = (df.groupby('session_id').agg({'category': np.size, \n",
    "                              'item_id': pd.Series.nunique,\n",
    "                              'timestamp': lambda x: (x.max() - x.min()).seconds / 60.0 ,\n",
    "                              'quantity': lambda x: int(all(x.notnull()))})\n",
    "                                .rename(columns={'category':'total_clicks','item_id':'unique_items_seen',\n",
    "                                                'timestamp':'duration','quantity':'buy'})\n",
    "         )\n",
    "\n",
    "group2 = (df.groupby('session_id')\n",
    "            .agg({'category1': pd.Series.nunique,'timestamp':np.min})\n",
    "            .rename(columns={'category1':'unique_categories_seen','timestamp':'first_click'})\n",
    "         )\n",
    "           \n",
    "features0 = pd.merge(group1,group2,how='inner',left_index=True,right_index=True)\n",
    "print 'Elapsed time: {} minutes'.format((datetime.now() - start).seconds / 60.0)"
   ]
  },
  {
   "cell_type": "code",
   "execution_count": 19,
   "metadata": {
    "collapsed": false
   },
   "outputs": [
    {
     "name": "stdout",
     "output_type": "stream",
     "text": [
      "Elapsed time: 0.05 minutes\n"
     ]
    }
   ],
   "source": [
    "#Get most common item (most clicks)\n",
    "start = datetime.now()\n",
    "\n",
    "from collections import Counter\n",
    "def Most_Common(lst):\n",
    "    data = Counter(lst)\n",
    "    if len(set(data.values())) == 1:\n",
    "        return \"Draw\"\n",
    "    return data.most_common(1)[0][0]\n",
    "\n",
    "list_items = df.groupby(['session_id'])['item_id'].apply(list)\n",
    "most_common = pd.DataFrame(list_items.apply(lambda x: Most_Common(x)))\n",
    "#.rename(columns={'item_id':'most_clicked'})\n",
    "\n",
    "features = pd.merge(features0,most_common,how='inner',left_index=True,right_index=True)\n",
    "\n",
    "print 'Elapsed time: {} minutes'.format((datetime.now() - start).seconds / 60.0)"
   ]
  },
  {
   "cell_type": "code",
   "execution_count": null,
   "metadata": {
    "collapsed": false
   },
   "outputs": [],
   "source": []
  },
  {
   "cell_type": "code",
   "execution_count": 20,
   "metadata": {
    "collapsed": false
   },
   "outputs": [
    {
     "data": {
      "text/html": [
       "<div>\n",
       "<style scoped>\n",
       "    .dataframe tbody tr th:only-of-type {\n",
       "        vertical-align: middle;\n",
       "    }\n",
       "\n",
       "    .dataframe tbody tr th {\n",
       "        vertical-align: top;\n",
       "    }\n",
       "\n",
       "    .dataframe thead th {\n",
       "        text-align: right;\n",
       "    }\n",
       "</style>\n",
       "<table border=\"1\" class=\"dataframe\">\n",
       "  <thead>\n",
       "    <tr style=\"text-align: right;\">\n",
       "      <th></th>\n",
       "      <th>total_clicks</th>\n",
       "      <th>unique_items_seen</th>\n",
       "      <th>buy</th>\n",
       "      <th>duration</th>\n",
       "      <th>unique_categories_seen</th>\n",
       "      <th>first_click</th>\n",
       "      <th>item_id</th>\n",
       "    </tr>\n",
       "    <tr>\n",
       "      <th>session_id</th>\n",
       "      <th></th>\n",
       "      <th></th>\n",
       "      <th></th>\n",
       "      <th></th>\n",
       "      <th></th>\n",
       "      <th></th>\n",
       "      <th></th>\n",
       "    </tr>\n",
       "  </thead>\n",
       "  <tbody>\n",
       "    <tr>\n",
       "      <th>1</th>\n",
       "      <td>4</td>\n",
       "      <td>4</td>\n",
       "      <td>0.0</td>\n",
       "      <td>5.850000</td>\n",
       "      <td>1</td>\n",
       "      <td>2014-04-07 10:51:09.277</td>\n",
       "      <td>Draw</td>\n",
       "    </tr>\n",
       "    <tr>\n",
       "      <th>2</th>\n",
       "      <td>6</td>\n",
       "      <td>5</td>\n",
       "      <td>0.0</td>\n",
       "      <td>5.983333</td>\n",
       "      <td>1</td>\n",
       "      <td>2014-04-07 13:56:37.614</td>\n",
       "      <td>214662742</td>\n",
       "    </tr>\n",
       "    <tr>\n",
       "      <th>3</th>\n",
       "      <td>3</td>\n",
       "      <td>3</td>\n",
       "      <td>0.0</td>\n",
       "      <td>12.416667</td>\n",
       "      <td>1</td>\n",
       "      <td>2014-04-02 13:17:46.940</td>\n",
       "      <td>Draw</td>\n",
       "    </tr>\n",
       "    <tr>\n",
       "      <th>4</th>\n",
       "      <td>2</td>\n",
       "      <td>2</td>\n",
       "      <td>0.0</td>\n",
       "      <td>17.233333</td>\n",
       "      <td>1</td>\n",
       "      <td>2014-04-07 12:09:10.948</td>\n",
       "      <td>Draw</td>\n",
       "    </tr>\n",
       "    <tr>\n",
       "      <th>6</th>\n",
       "      <td>2</td>\n",
       "      <td>2</td>\n",
       "      <td>0.0</td>\n",
       "      <td>4.100000</td>\n",
       "      <td>1</td>\n",
       "      <td>2014-04-06 16:58:20.848</td>\n",
       "      <td>Draw</td>\n",
       "    </tr>\n",
       "  </tbody>\n",
       "</table>\n",
       "</div>"
      ],
      "text/plain": [
       "            total_clicks  unique_items_seen  buy   duration  \\\n",
       "session_id                                                    \n",
       "1                      4                  4  0.0   5.850000   \n",
       "2                      6                  5  0.0   5.983333   \n",
       "3                      3                  3  0.0  12.416667   \n",
       "4                      2                  2  0.0  17.233333   \n",
       "6                      2                  2  0.0   4.100000   \n",
       "\n",
       "            unique_categories_seen             first_click    item_id  \n",
       "session_id                                                             \n",
       "1                                1 2014-04-07 10:51:09.277       Draw  \n",
       "2                                1 2014-04-07 13:56:37.614  214662742  \n",
       "3                                1 2014-04-02 13:17:46.940       Draw  \n",
       "4                                1 2014-04-07 12:09:10.948       Draw  \n",
       "6                                1 2014-04-06 16:58:20.848       Draw  "
      ]
     },
     "execution_count": 20,
     "metadata": {},
     "output_type": "execute_result"
    }
   ],
   "source": [
    "features.head()"
   ]
  },
  {
   "cell_type": "code",
   "execution_count": null,
   "metadata": {
    "collapsed": false
   },
   "outputs": [],
   "source": []
  },
  {
   "cell_type": "code",
   "execution_count": null,
   "metadata": {
    "collapsed": false
   },
   "outputs": [],
   "source": []
  },
  {
   "cell_type": "code",
   "execution_count": null,
   "metadata": {
    "collapsed": true
   },
   "outputs": [],
   "source": []
  },
  {
   "cell_type": "code",
   "execution_count": 21,
   "metadata": {
    "collapsed": false
   },
   "outputs": [
    {
     "name": "stdout",
     "output_type": "stream",
     "text": [
      "Elapsed time: 0.0166666666667 minutes\n"
     ]
    }
   ],
   "source": [
    "#Gets  month and hour and day of week dummies\n",
    "start = datetime.now()\n",
    "\n",
    "features['month'] = features['first_click'].apply(lambda x: x.month)\n",
    "features['hour'] = features['first_click'].apply(lambda x: x.hour)\n",
    "features['dayofyear'] = features['first_click'].apply(lambda x: x.dayofyear)\n",
    "\n",
    "WEEKDAY_NAME = {\n",
    "    0: 'Mon',\n",
    "    1: 'Tue',\n",
    "    2: 'Wed',\n",
    "    3: 'Thu',\n",
    "    4: 'Fri',\n",
    "    5: 'Sat',\n",
    "    6: 'Sun',\n",
    "}\n",
    "\n",
    "features['weekday'] = features['first_click'].apply(lambda x: WEEKDAY_NAME[x.weekday()])\n",
    "weekday_dummies = pd.get_dummies(features['weekday'])\n",
    "features1 = pd.concat([features,weekday_dummies],axis=1)\n",
    "\n",
    "print 'Elapsed time: {} minutes'.format((datetime.now() - start).seconds / 60.0)"
   ]
  },
  {
   "cell_type": "code",
   "execution_count": null,
   "metadata": {
    "collapsed": false
   },
   "outputs": [],
   "source": []
  },
  {
   "cell_type": "code",
   "execution_count": null,
   "metadata": {
    "collapsed": false
   },
   "outputs": [],
   "source": []
  },
  {
   "cell_type": "code",
   "execution_count": 23,
   "metadata": {
    "collapsed": false
   },
   "outputs": [
    {
     "name": "stdout",
     "output_type": "stream",
     "text": [
      "Elapsed time: 0.0666666666667 minutes\n"
     ]
    }
   ],
   "source": [
    "#Get hour month dayofyear and item dummies\n",
    "\n",
    "start = datetime.now()\n",
    "\n",
    "hour_dummies = pd.get_dummies(features1['hour'])\n",
    "hour_dummies.columns = ['hour_{}'.format(c) for c in hour_dummies.columns]\n",
    "\n",
    "month_dummies = pd.get_dummies(features1['month'])\n",
    "month_dummies.columns = ['month_{}'.format(c) for c in month_dummies.columns]\n",
    "\n",
    "doy_dummies = pd.get_dummies(features1['dayofyear'])\n",
    "doy_dummies.columns = ['doy_{}'.format(c) for c in doy_dummies.columns]\n",
    "\n",
    "item_dummies = pd.get_dummies(features1['item_id'])\n",
    "item_dummies.columns = ['item_{}'.format(c) for c in item_dummies.columns]\n",
    "\n",
    "\n",
    "features2 = (pd.concat([features1,hour_dummies,month_dummies,doy_dummies,item_dummies],axis=1)\n",
    "           .drop(['hour','month','dayofyear','weekday'],axis=1)\n",
    "            )\n",
    "\n",
    "print 'Elapsed time: {} minutes'.format((datetime.now() - start).seconds / 60.0)"
   ]
  },
  {
   "cell_type": "code",
   "execution_count": null,
   "metadata": {
    "collapsed": true
   },
   "outputs": [],
   "source": []
  },
  {
   "cell_type": "code",
   "execution_count": 27,
   "metadata": {
    "collapsed": false
   },
   "outputs": [
    {
     "data": {
      "text/html": [
       "<div>\n",
       "<style scoped>\n",
       "    .dataframe tbody tr th:only-of-type {\n",
       "        vertical-align: middle;\n",
       "    }\n",
       "\n",
       "    .dataframe tbody tr th {\n",
       "        vertical-align: top;\n",
       "    }\n",
       "\n",
       "    .dataframe thead th {\n",
       "        text-align: right;\n",
       "    }\n",
       "</style>\n",
       "<table border=\"1\" class=\"dataframe\">\n",
       "  <thead>\n",
       "    <tr style=\"text-align: right;\">\n",
       "      <th></th>\n",
       "      <th>total_clicks</th>\n",
       "      <th>unique_items_seen</th>\n",
       "      <th>buy</th>\n",
       "      <th>duration</th>\n",
       "      <th>unique_categories_seen</th>\n",
       "      <th>first_click</th>\n",
       "      <th>item_id</th>\n",
       "      <th>Fri</th>\n",
       "      <th>Mon</th>\n",
       "      <th>Sat</th>\n",
       "      <th>...</th>\n",
       "      <th>item_214864680</th>\n",
       "      <th>item_214864850</th>\n",
       "      <th>item_214864852</th>\n",
       "      <th>item_214864880</th>\n",
       "      <th>item_214865117</th>\n",
       "      <th>item_214865120</th>\n",
       "      <th>item_214865212</th>\n",
       "      <th>item_214981102</th>\n",
       "      <th>item_643078783</th>\n",
       "      <th>item_Draw</th>\n",
       "    </tr>\n",
       "    <tr>\n",
       "      <th>session_id</th>\n",
       "      <th></th>\n",
       "      <th></th>\n",
       "      <th></th>\n",
       "      <th></th>\n",
       "      <th></th>\n",
       "      <th></th>\n",
       "      <th></th>\n",
       "      <th></th>\n",
       "      <th></th>\n",
       "      <th></th>\n",
       "      <th></th>\n",
       "      <th></th>\n",
       "      <th></th>\n",
       "      <th></th>\n",
       "      <th></th>\n",
       "      <th></th>\n",
       "      <th></th>\n",
       "      <th></th>\n",
       "      <th></th>\n",
       "      <th></th>\n",
       "      <th></th>\n",
       "    </tr>\n",
       "  </thead>\n",
       "  <tbody>\n",
       "    <tr>\n",
       "      <th>1</th>\n",
       "      <td>4</td>\n",
       "      <td>4</td>\n",
       "      <td>0.0</td>\n",
       "      <td>5.850000</td>\n",
       "      <td>1</td>\n",
       "      <td>2014-04-07 10:51:09.277</td>\n",
       "      <td>Draw</td>\n",
       "      <td>0</td>\n",
       "      <td>1</td>\n",
       "      <td>0</td>\n",
       "      <td>...</td>\n",
       "      <td>0</td>\n",
       "      <td>0</td>\n",
       "      <td>0</td>\n",
       "      <td>0</td>\n",
       "      <td>0</td>\n",
       "      <td>0</td>\n",
       "      <td>0</td>\n",
       "      <td>0</td>\n",
       "      <td>0</td>\n",
       "      <td>1</td>\n",
       "    </tr>\n",
       "    <tr>\n",
       "      <th>2</th>\n",
       "      <td>6</td>\n",
       "      <td>5</td>\n",
       "      <td>0.0</td>\n",
       "      <td>5.983333</td>\n",
       "      <td>1</td>\n",
       "      <td>2014-04-07 13:56:37.614</td>\n",
       "      <td>214662742</td>\n",
       "      <td>0</td>\n",
       "      <td>1</td>\n",
       "      <td>0</td>\n",
       "      <td>...</td>\n",
       "      <td>0</td>\n",
       "      <td>0</td>\n",
       "      <td>0</td>\n",
       "      <td>0</td>\n",
       "      <td>0</td>\n",
       "      <td>0</td>\n",
       "      <td>0</td>\n",
       "      <td>0</td>\n",
       "      <td>0</td>\n",
       "      <td>0</td>\n",
       "    </tr>\n",
       "    <tr>\n",
       "      <th>3</th>\n",
       "      <td>3</td>\n",
       "      <td>3</td>\n",
       "      <td>0.0</td>\n",
       "      <td>12.416667</td>\n",
       "      <td>1</td>\n",
       "      <td>2014-04-02 13:17:46.940</td>\n",
       "      <td>Draw</td>\n",
       "      <td>0</td>\n",
       "      <td>0</td>\n",
       "      <td>0</td>\n",
       "      <td>...</td>\n",
       "      <td>0</td>\n",
       "      <td>0</td>\n",
       "      <td>0</td>\n",
       "      <td>0</td>\n",
       "      <td>0</td>\n",
       "      <td>0</td>\n",
       "      <td>0</td>\n",
       "      <td>0</td>\n",
       "      <td>0</td>\n",
       "      <td>1</td>\n",
       "    </tr>\n",
       "    <tr>\n",
       "      <th>4</th>\n",
       "      <td>2</td>\n",
       "      <td>2</td>\n",
       "      <td>0.0</td>\n",
       "      <td>17.233333</td>\n",
       "      <td>1</td>\n",
       "      <td>2014-04-07 12:09:10.948</td>\n",
       "      <td>Draw</td>\n",
       "      <td>0</td>\n",
       "      <td>1</td>\n",
       "      <td>0</td>\n",
       "      <td>...</td>\n",
       "      <td>0</td>\n",
       "      <td>0</td>\n",
       "      <td>0</td>\n",
       "      <td>0</td>\n",
       "      <td>0</td>\n",
       "      <td>0</td>\n",
       "      <td>0</td>\n",
       "      <td>0</td>\n",
       "      <td>0</td>\n",
       "      <td>1</td>\n",
       "    </tr>\n",
       "    <tr>\n",
       "      <th>6</th>\n",
       "      <td>2</td>\n",
       "      <td>2</td>\n",
       "      <td>0.0</td>\n",
       "      <td>4.100000</td>\n",
       "      <td>1</td>\n",
       "      <td>2014-04-06 16:58:20.848</td>\n",
       "      <td>Draw</td>\n",
       "      <td>0</td>\n",
       "      <td>0</td>\n",
       "      <td>0</td>\n",
       "      <td>...</td>\n",
       "      <td>0</td>\n",
       "      <td>0</td>\n",
       "      <td>0</td>\n",
       "      <td>0</td>\n",
       "      <td>0</td>\n",
       "      <td>0</td>\n",
       "      <td>0</td>\n",
       "      <td>0</td>\n",
       "      <td>0</td>\n",
       "      <td>1</td>\n",
       "    </tr>\n",
       "  </tbody>\n",
       "</table>\n",
       "<p>5 rows × 4174 columns</p>\n",
       "</div>"
      ],
      "text/plain": [
       "            total_clicks  unique_items_seen  buy   duration  \\\n",
       "session_id                                                    \n",
       "1                      4                  4  0.0   5.850000   \n",
       "2                      6                  5  0.0   5.983333   \n",
       "3                      3                  3  0.0  12.416667   \n",
       "4                      2                  2  0.0  17.233333   \n",
       "6                      2                  2  0.0   4.100000   \n",
       "\n",
       "            unique_categories_seen             first_click    item_id  Fri  \\\n",
       "session_id                                                                   \n",
       "1                                1 2014-04-07 10:51:09.277       Draw    0   \n",
       "2                                1 2014-04-07 13:56:37.614  214662742    0   \n",
       "3                                1 2014-04-02 13:17:46.940       Draw    0   \n",
       "4                                1 2014-04-07 12:09:10.948       Draw    0   \n",
       "6                                1 2014-04-06 16:58:20.848       Draw    0   \n",
       "\n",
       "            Mon  Sat    ...      item_214864680  item_214864850  \\\n",
       "session_id              ...                                       \n",
       "1             1    0    ...                   0               0   \n",
       "2             1    0    ...                   0               0   \n",
       "3             0    0    ...                   0               0   \n",
       "4             1    0    ...                   0               0   \n",
       "6             0    0    ...                   0               0   \n",
       "\n",
       "            item_214864852  item_214864880  item_214865117  item_214865120  \\\n",
       "session_id                                                                   \n",
       "1                        0               0               0               0   \n",
       "2                        0               0               0               0   \n",
       "3                        0               0               0               0   \n",
       "4                        0               0               0               0   \n",
       "6                        0               0               0               0   \n",
       "\n",
       "            item_214865212  item_214981102  item_643078783  item_Draw  \n",
       "session_id                                                             \n",
       "1                        0               0               0          1  \n",
       "2                        0               0               0          0  \n",
       "3                        0               0               0          1  \n",
       "4                        0               0               0          1  \n",
       "6                        0               0               0          1  \n",
       "\n",
       "[5 rows x 4174 columns]"
      ]
     },
     "execution_count": 27,
     "metadata": {},
     "output_type": "execute_result"
    }
   ],
   "source": [
    "features2.head()"
   ]
  },
  {
   "cell_type": "code",
   "execution_count": 28,
   "metadata": {
    "collapsed": false
   },
   "outputs": [
    {
     "data": {
      "image/png": "[encoded data removed]",
      "text/plain": [
       "<matplotlib.figure.Figure at 0x10ec43450>"
      ]
     },
     "metadata": {},
     "output_type": "display_data"
    }
   ],
   "source": [
    "f, (ax1, ax2, ax3,ax4) = plt.subplots(4,1,figsize=(16,15))\n",
    "features1.groupby('dayofyear')['buy'].mean().plot(kind='bar',color='lightblue',ax=ax1)\n",
    "ax1.set_title('Percent Buy vs. Features',fontsize=16)\n",
    "features1.groupby('month')['buy'].mean().plot(kind='bar',color='lightblue',ax=ax2)\n",
    "features1.groupby('hour')['buy'].mean().plot(kind='bar',color='lightblue',ax=ax3)\n",
    "features1.groupby('weekday')['buy'].mean().plot(kind='bar',color='lightblue',ax=ax4)\n",
    "plt.show()"
   ]
  },
  {
   "cell_type": "code",
   "execution_count": null,
   "metadata": {
    "collapsed": false
   },
   "outputs": [],
   "source": []
  },
  {
   "cell_type": "code",
   "execution_count": null,
   "metadata": {
    "collapsed": false
   },
   "outputs": [],
   "source": []
  },
  {
   "cell_type": "code",
   "execution_count": null,
   "metadata": {
    "collapsed": false
   },
   "outputs": [],
   "source": []
  },
  {
   "cell_type": "code",
   "execution_count": null,
   "metadata": {
    "collapsed": false
   },
   "outputs": [],
   "source": []
  },
  {
   "cell_type": "code",
   "execution_count": null,
   "metadata": {
    "collapsed": false
   },
   "outputs": [],
   "source": []
  },
  {
   "cell_type": "code",
   "execution_count": null,
   "metadata": {
    "collapsed": false
   },
   "outputs": [],
   "source": []
  },
  {
   "cell_type": "code",
   "execution_count": null,
   "metadata": {
    "collapsed": true
   },
   "outputs": [],
   "source": []
  },
  {
   "cell_type": "code",
   "execution_count": null,
   "metadata": {
    "collapsed": true
   },
   "outputs": [],
   "source": []
  },
  {
   "cell_type": "code",
   "execution_count": null,
   "metadata": {
    "collapsed": true
   },
   "outputs": [],
   "source": []
  },
  {
   "cell_type": "code",
   "execution_count": null,
   "metadata": {
    "collapsed": true
   },
   "outputs": [],
   "source": []
  },
  {
   "cell_type": "code",
   "execution_count": 30,
   "metadata": {
    "collapsed": false
   },
   "outputs": [],
   "source": [
    "#Get clicks per category there should be 15 category columns.\n",
    "clicks_per_cat = df.groupby('session_id').sum().iloc[:,-4:]\n",
    "df1 = pd.concat([features2,clicks_per_cat],axis=1)"
   ]
  },
  {
   "cell_type": "code",
   "execution_count": 31,
   "metadata": {
    "collapsed": false
   },
   "outputs": [
    {
     "data": {
      "text/html": [
       "<div>\n",
       "<style scoped>\n",
       "    .dataframe tbody tr th:only-of-type {\n",
       "        vertical-align: middle;\n",
       "    }\n",
       "\n",
       "    .dataframe tbody tr th {\n",
       "        vertical-align: top;\n",
       "    }\n",
       "\n",
       "    .dataframe thead th {\n",
       "        text-align: right;\n",
       "    }\n",
       "</style>\n",
       "<table border=\"1\" class=\"dataframe\">\n",
       "  <thead>\n",
       "    <tr style=\"text-align: right;\">\n",
       "      <th></th>\n",
       "      <th>total_clicks</th>\n",
       "      <th>unique_items_seen</th>\n",
       "      <th>buy</th>\n",
       "      <th>duration</th>\n",
       "      <th>unique_categories_seen</th>\n",
       "      <th>first_click</th>\n",
       "      <th>item_id</th>\n",
       "      <th>Fri</th>\n",
       "      <th>Mon</th>\n",
       "      <th>Sat</th>\n",
       "      <th>...</th>\n",
       "      <th>item_214865117</th>\n",
       "      <th>item_214865120</th>\n",
       "      <th>item_214865212</th>\n",
       "      <th>item_214981102</th>\n",
       "      <th>item_643078783</th>\n",
       "      <th>item_Draw</th>\n",
       "      <th>Brand</th>\n",
       "      <th>No Category</th>\n",
       "      <th>Regular Category</th>\n",
       "      <th>Special Offer</th>\n",
       "    </tr>\n",
       "    <tr>\n",
       "      <th>session_id</th>\n",
       "      <th></th>\n",
       "      <th></th>\n",
       "      <th></th>\n",
       "      <th></th>\n",
       "      <th></th>\n",
       "      <th></th>\n",
       "      <th></th>\n",
       "      <th></th>\n",
       "      <th></th>\n",
       "      <th></th>\n",
       "      <th></th>\n",
       "      <th></th>\n",
       "      <th></th>\n",
       "      <th></th>\n",
       "      <th></th>\n",
       "      <th></th>\n",
       "      <th></th>\n",
       "      <th></th>\n",
       "      <th></th>\n",
       "      <th></th>\n",
       "      <th></th>\n",
       "    </tr>\n",
       "  </thead>\n",
       "  <tbody>\n",
       "    <tr>\n",
       "      <th>1</th>\n",
       "      <td>4</td>\n",
       "      <td>4</td>\n",
       "      <td>0</td>\n",
       "      <td>5.850000</td>\n",
       "      <td>1</td>\n",
       "      <td>2014-04-07 10:51:09.277</td>\n",
       "      <td>Draw</td>\n",
       "      <td>0</td>\n",
       "      <td>1</td>\n",
       "      <td>0</td>\n",
       "      <td>...</td>\n",
       "      <td>0</td>\n",
       "      <td>0</td>\n",
       "      <td>0</td>\n",
       "      <td>0</td>\n",
       "      <td>0</td>\n",
       "      <td>1</td>\n",
       "      <td>0</td>\n",
       "      <td>4</td>\n",
       "      <td>0</td>\n",
       "      <td>0</td>\n",
       "    </tr>\n",
       "    <tr>\n",
       "      <th>2</th>\n",
       "      <td>6</td>\n",
       "      <td>5</td>\n",
       "      <td>0</td>\n",
       "      <td>5.983333</td>\n",
       "      <td>1</td>\n",
       "      <td>2014-04-07 13:56:37.614</td>\n",
       "      <td>214662742</td>\n",
       "      <td>0</td>\n",
       "      <td>1</td>\n",
       "      <td>0</td>\n",
       "      <td>...</td>\n",
       "      <td>0</td>\n",
       "      <td>0</td>\n",
       "      <td>0</td>\n",
       "      <td>0</td>\n",
       "      <td>0</td>\n",
       "      <td>0</td>\n",
       "      <td>0</td>\n",
       "      <td>6</td>\n",
       "      <td>0</td>\n",
       "      <td>0</td>\n",
       "    </tr>\n",
       "    <tr>\n",
       "      <th>3</th>\n",
       "      <td>3</td>\n",
       "      <td>3</td>\n",
       "      <td>0</td>\n",
       "      <td>12.416667</td>\n",
       "      <td>1</td>\n",
       "      <td>2014-04-02 13:17:46.940</td>\n",
       "      <td>Draw</td>\n",
       "      <td>0</td>\n",
       "      <td>0</td>\n",
       "      <td>0</td>\n",
       "      <td>...</td>\n",
       "      <td>0</td>\n",
       "      <td>0</td>\n",
       "      <td>0</td>\n",
       "      <td>0</td>\n",
       "      <td>0</td>\n",
       "      <td>1</td>\n",
       "      <td>0</td>\n",
       "      <td>3</td>\n",
       "      <td>0</td>\n",
       "      <td>0</td>\n",
       "    </tr>\n",
       "    <tr>\n",
       "      <th>4</th>\n",
       "      <td>2</td>\n",
       "      <td>2</td>\n",
       "      <td>0</td>\n",
       "      <td>17.233333</td>\n",
       "      <td>1</td>\n",
       "      <td>2014-04-07 12:09:10.948</td>\n",
       "      <td>Draw</td>\n",
       "      <td>0</td>\n",
       "      <td>1</td>\n",
       "      <td>0</td>\n",
       "      <td>...</td>\n",
       "      <td>0</td>\n",
       "      <td>0</td>\n",
       "      <td>0</td>\n",
       "      <td>0</td>\n",
       "      <td>0</td>\n",
       "      <td>1</td>\n",
       "      <td>0</td>\n",
       "      <td>2</td>\n",
       "      <td>0</td>\n",
       "      <td>0</td>\n",
       "    </tr>\n",
       "    <tr>\n",
       "      <th>6</th>\n",
       "      <td>2</td>\n",
       "      <td>2</td>\n",
       "      <td>0</td>\n",
       "      <td>4.100000</td>\n",
       "      <td>1</td>\n",
       "      <td>2014-04-06 16:58:20.848</td>\n",
       "      <td>Draw</td>\n",
       "      <td>0</td>\n",
       "      <td>0</td>\n",
       "      <td>0</td>\n",
       "      <td>...</td>\n",
       "      <td>0</td>\n",
       "      <td>0</td>\n",
       "      <td>0</td>\n",
       "      <td>0</td>\n",
       "      <td>0</td>\n",
       "      <td>1</td>\n",
       "      <td>0</td>\n",
       "      <td>2</td>\n",
       "      <td>0</td>\n",
       "      <td>0</td>\n",
       "    </tr>\n",
       "  </tbody>\n",
       "</table>\n",
       "<p>5 rows × 4178 columns</p>\n",
       "</div>"
      ],
      "text/plain": [
       "            total_clicks  unique_items_seen  buy   duration  \\\n",
       "session_id                                                    \n",
       "1                      4                  4    0   5.850000   \n",
       "2                      6                  5    0   5.983333   \n",
       "3                      3                  3    0  12.416667   \n",
       "4                      2                  2    0  17.233333   \n",
       "6                      2                  2    0   4.100000   \n",
       "\n",
       "            unique_categories_seen             first_click    item_id  Fri  \\\n",
       "session_id                                                                   \n",
       "1                                1 2014-04-07 10:51:09.277       Draw    0   \n",
       "2                                1 2014-04-07 13:56:37.614  214662742    0   \n",
       "3                                1 2014-04-02 13:17:46.940       Draw    0   \n",
       "4                                1 2014-04-07 12:09:10.948       Draw    0   \n",
       "6                                1 2014-04-06 16:58:20.848       Draw    0   \n",
       "\n",
       "            Mon  Sat      ...        item_214865117  item_214865120  \\\n",
       "session_id                ...                                         \n",
       "1             1    0      ...                     0               0   \n",
       "2             1    0      ...                     0               0   \n",
       "3             0    0      ...                     0               0   \n",
       "4             1    0      ...                     0               0   \n",
       "6             0    0      ...                     0               0   \n",
       "\n",
       "            item_214865212  item_214981102  item_643078783  item_Draw  Brand  \\\n",
       "session_id                                                                     \n",
       "1                        0               0               0          1      0   \n",
       "2                        0               0               0          0      0   \n",
       "3                        0               0               0          1      0   \n",
       "4                        0               0               0          1      0   \n",
       "6                        0               0               0          1      0   \n",
       "\n",
       "            No Category  Regular Category  Special Offer  \n",
       "session_id                                                \n",
       "1                     4                 0              0  \n",
       "2                     6                 0              0  \n",
       "3                     3                 0              0  \n",
       "4                     2                 0              0  \n",
       "6                     2                 0              0  \n",
       "\n",
       "[5 rows x 4178 columns]"
      ]
     },
     "execution_count": 31,
     "metadata": {},
     "output_type": "execute_result"
    }
   ],
   "source": [
    "#SHOULD BE  FEATURES plus the BUY column\n",
    "df1['buy'] = df1['buy'].astype(int)\n",
    "df1.head()"
   ]
  },
  {
   "cell_type": "code",
   "execution_count": null,
   "metadata": {
    "collapsed": false
   },
   "outputs": [],
   "source": []
  },
  {
   "cell_type": "code",
   "execution_count": null,
   "metadata": {
    "collapsed": false
   },
   "outputs": [],
   "source": []
  },
  {
   "cell_type": "code",
   "execution_count": null,
   "metadata": {
    "collapsed": true
   },
   "outputs": [],
   "source": []
  },
  {
   "cell_type": "code",
   "execution_count": 32,
   "metadata": {
    "collapsed": false
   },
   "outputs": [
    {
     "name": "stdout",
     "output_type": "stream",
     "text": [
      "Percent sessions with a buy: 0.0202120192221\n"
     ]
    }
   ],
   "source": [
    "print 'Percent sessions with a buy: {}'.format(len(df1[df1['buy'] == 1])*1.0 / len(df1))"
   ]
  },
  {
   "cell_type": "code",
   "execution_count": 33,
   "metadata": {
    "collapsed": false
   },
   "outputs": [
    {
     "data": {
      "text/plain": [
       "(55561, 4178)"
      ]
     },
     "execution_count": 33,
     "metadata": {},
     "output_type": "execute_result"
    }
   ],
   "source": [
    "df1.shape"
   ]
  },
  {
   "cell_type": "code",
   "execution_count": null,
   "metadata": {
    "collapsed": true
   },
   "outputs": [],
   "source": []
  },
  {
   "cell_type": "markdown",
   "metadata": {},
   "source": [
    "### Create Baseline Model "
   ]
  },
  {
   "cell_type": "code",
   "execution_count": 34,
   "metadata": {
    "collapsed": true
   },
   "outputs": [],
   "source": [
    "def confusion_matrix_as_df(actual,predicted,print_stats=False):\n",
    "\n",
    "    cm = pd.crosstab(np.array(actual),np.array(predicted),rownames=['Actual'],colnames=['Predicted'],margins=True)\n",
    "\n",
    "    TOTAL = cm.iloc[2,2]\n",
    "    TN, FP = cm.iloc[0,0], cm.iloc[0,1]\n",
    "    FN, TP = cm.iloc[1,0], cm.iloc[1,1]\n",
    "\n",
    "    if print_stats:\n",
    "        print 'False Positive Rate: {}'.format(FP/(cm.iloc[0,2]*1.0))\n",
    "        print 'False Negative Rate: {}'.format(FN/(cm.iloc[1,2]*1.0))\n",
    "        print 'True Positive Rate: {}'.format(TP/(cm.iloc[1,2]*1.0))\n",
    "        print 'True Negative Rate: {}'.format(TN/(cm.iloc[0,2]*1.0))\n",
    "\n",
    "        print '\\nAccuracy: {}'.format((TP + TN) / float(TOTAL))\n",
    "        print 'Precision: {}'.format(TP / float((TP + FP)))\n",
    "        print 'Recall: {}'.format(TP / float(TP + FN))\n",
    "        print 'F1-score: {}'.format(2 * TP / float((2*TP + FN + FP)))\n",
    "    return cm, TN, TP, FN, FP"
   ]
  },
  {
   "cell_type": "code",
   "execution_count": null,
   "metadata": {
    "collapsed": true
   },
   "outputs": [],
   "source": []
  },
  {
   "cell_type": "code",
   "execution_count": null,
   "metadata": {
    "collapsed": false
   },
   "outputs": [],
   "source": []
  },
  {
   "cell_type": "code",
   "execution_count": null,
   "metadata": {
    "collapsed": true
   },
   "outputs": [],
   "source": []
  },
  {
   "cell_type": "code",
   "execution_count": 35,
   "metadata": {
    "collapsed": false
   },
   "outputs": [],
   "source": [
    "from sklearn.model_selection import train_test_split\n",
    "\n",
    "non_features = ['buy','first_click','item_id']\n",
    "\n",
    "X, y = df1.drop(non_features,axis=1), df1['buy']\n",
    "X_train, X_test, y_train, y_test = train_test_split(X, y, test_size=0.33, random_state=42)"
   ]
  },
  {
   "cell_type": "code",
   "execution_count": 36,
   "metadata": {
    "collapsed": false
   },
   "outputs": [
    {
     "name": "stdout",
     "output_type": "stream",
     "text": [
      "Training Samples: 37225\n",
      "Test Samples: 18336\n"
     ]
    }
   ],
   "source": [
    "print 'Training Samples: {}'.format(len(X_train))\n",
    "print 'Test Samples: {}'.format(len(X_test))"
   ]
  },
  {
   "cell_type": "code",
   "execution_count": 37,
   "metadata": {
    "collapsed": false
   },
   "outputs": [
    {
     "name": "stdout",
     "output_type": "stream",
     "text": [
      "False Positive Rate: 0.0189644624882\n",
      "False Negative Rate: 0.980281690141\n",
      "True Positive Rate: 0.0197183098592\n",
      "True Negative Rate: 0.981035537512\n",
      "\n",
      "Accuracy: 0.962423647469\n",
      "Precision: 0.0201149425287\n",
      "Recall: 0.0197183098592\n",
      "F1-score: 0.0199146514936\n",
      "Kappa: 0.000761204031154\n"
     ]
    },
    {
     "data": {
      "text/html": [
       "<div>\n",
       "<style scoped>\n",
       "    .dataframe tbody tr th:only-of-type {\n",
       "        vertical-align: middle;\n",
       "    }\n",
       "\n",
       "    .dataframe tbody tr th {\n",
       "        vertical-align: top;\n",
       "    }\n",
       "\n",
       "    .dataframe thead th {\n",
       "        text-align: right;\n",
       "    }\n",
       "</style>\n",
       "<table border=\"1\" class=\"dataframe\">\n",
       "  <thead>\n",
       "    <tr style=\"text-align: right;\">\n",
       "      <th>Predicted</th>\n",
       "      <th>0</th>\n",
       "      <th>1</th>\n",
       "      <th>All</th>\n",
       "    </tr>\n",
       "    <tr>\n",
       "      <th>Actual</th>\n",
       "      <th></th>\n",
       "      <th></th>\n",
       "      <th></th>\n",
       "    </tr>\n",
       "  </thead>\n",
       "  <tbody>\n",
       "    <tr>\n",
       "      <th>0</th>\n",
       "      <td>17640</td>\n",
       "      <td>341</td>\n",
       "      <td>17981</td>\n",
       "    </tr>\n",
       "    <tr>\n",
       "      <th>1</th>\n",
       "      <td>348</td>\n",
       "      <td>7</td>\n",
       "      <td>355</td>\n",
       "    </tr>\n",
       "    <tr>\n",
       "      <th>All</th>\n",
       "      <td>17988</td>\n",
       "      <td>348</td>\n",
       "      <td>18336</td>\n",
       "    </tr>\n",
       "  </tbody>\n",
       "</table>\n",
       "</div>"
      ],
      "text/plain": [
       "Predicted      0    1    All\n",
       "Actual                      \n",
       "0          17640  341  17981\n",
       "1            348    7    355\n",
       "All        17988  348  18336"
      ]
     },
     "execution_count": 37,
     "metadata": {},
     "output_type": "execute_result"
    }
   ],
   "source": [
    "#Baseline dummy classifier\n",
    "#Random guessing with respect to the class distribution \n",
    "from sklearn.dummy import DummyClassifier\n",
    "from sklearn.metrics import cohen_kappa_score\n",
    "\n",
    "dum = DummyClassifier(strategy='stratified').fit(X_train,y_train)\n",
    "pred = dum.predict(X_test)\n",
    "\n",
    "cm, tn, tp, fn, fp = confusion_matrix_as_df(y_test,pred,print_stats=True)\n",
    "print 'Kappa: {}'.format(cohen_kappa_score(y_test,pred))\n",
    "cm"
   ]
  },
  {
   "cell_type": "code",
   "execution_count": null,
   "metadata": {
    "collapsed": false
   },
   "outputs": [],
   "source": []
  },
  {
   "cell_type": "code",
   "execution_count": 38,
   "metadata": {
    "collapsed": false
   },
   "outputs": [
    {
     "name": "stdout",
     "output_type": "stream",
     "text": [
      "False Positive Rate: 0.000611756854457\n",
      "False Negative Rate: 0.988732394366\n",
      "True Positive Rate: 0.0112676056338\n",
      "True Negative Rate: 0.999388243146\n",
      "\n",
      "Accuracy: 0.980257417103\n",
      "Precision: 0.266666666667\n",
      "Recall: 0.0112676056338\n",
      "F1-score: 0.0216216216216\n",
      "Kappa: 0.0200833521562\n"
     ]
    },
    {
     "data": {
      "text/html": [
       "<div>\n",
       "<style scoped>\n",
       "    .dataframe tbody tr th:only-of-type {\n",
       "        vertical-align: middle;\n",
       "    }\n",
       "\n",
       "    .dataframe tbody tr th {\n",
       "        vertical-align: top;\n",
       "    }\n",
       "\n",
       "    .dataframe thead th {\n",
       "        text-align: right;\n",
       "    }\n",
       "</style>\n",
       "<table border=\"1\" class=\"dataframe\">\n",
       "  <thead>\n",
       "    <tr style=\"text-align: right;\">\n",
       "      <th>Predicted</th>\n",
       "      <th>0</th>\n",
       "      <th>1</th>\n",
       "      <th>All</th>\n",
       "    </tr>\n",
       "    <tr>\n",
       "      <th>Actual</th>\n",
       "      <th></th>\n",
       "      <th></th>\n",
       "      <th></th>\n",
       "    </tr>\n",
       "  </thead>\n",
       "  <tbody>\n",
       "    <tr>\n",
       "      <th>0</th>\n",
       "      <td>17970</td>\n",
       "      <td>11</td>\n",
       "      <td>17981</td>\n",
       "    </tr>\n",
       "    <tr>\n",
       "      <th>1</th>\n",
       "      <td>351</td>\n",
       "      <td>4</td>\n",
       "      <td>355</td>\n",
       "    </tr>\n",
       "    <tr>\n",
       "      <th>All</th>\n",
       "      <td>18321</td>\n",
       "      <td>15</td>\n",
       "      <td>18336</td>\n",
       "    </tr>\n",
       "  </tbody>\n",
       "</table>\n",
       "</div>"
      ],
      "text/plain": [
       "Predicted      0   1    All\n",
       "Actual                     \n",
       "0          17970  11  17981\n",
       "1            351   4    355\n",
       "All        18321  15  18336"
      ]
     },
     "execution_count": 38,
     "metadata": {},
     "output_type": "execute_result"
    }
   ],
   "source": [
    "from sklearn.linear_model import LogisticRegression\n",
    "\n",
    "\n",
    "lr = LogisticRegression().fit(X_train,y_train)\n",
    "pred = lr.predict(X_test)\n",
    "\n",
    "cm, tn, tp, fn, fp = confusion_matrix_as_df(y_test,pred,print_stats=True)\n",
    "print 'Kappa: {}'.format(cohen_kappa_score(y_test,pred))\n",
    "cm"
   ]
  },
  {
   "cell_type": "code",
   "execution_count": 39,
   "metadata": {
    "collapsed": false
   },
   "outputs": [
    {
     "name": "stdout",
     "output_type": "stream",
     "text": [
      "False Positive Rate: 0.0057838829876\n",
      "False Negative Rate: 0.960563380282\n",
      "True Positive Rate: 0.0394366197183\n",
      "True Negative Rate: 0.994216117012\n",
      "\n",
      "Accuracy: 0.975730802792\n",
      "Precision: 0.118644067797\n",
      "Recall: 0.0394366197183\n",
      "F1-score: 0.0591966173362\n",
      "Kappa: 0.0500198622727\n"
     ]
    },
    {
     "data": {
      "text/html": [
       "<div>\n",
       "<style scoped>\n",
       "    .dataframe tbody tr th:only-of-type {\n",
       "        vertical-align: middle;\n",
       "    }\n",
       "\n",
       "    .dataframe tbody tr th {\n",
       "        vertical-align: top;\n",
       "    }\n",
       "\n",
       "    .dataframe thead th {\n",
       "        text-align: right;\n",
       "    }\n",
       "</style>\n",
       "<table border=\"1\" class=\"dataframe\">\n",
       "  <thead>\n",
       "    <tr style=\"text-align: right;\">\n",
       "      <th>Predicted</th>\n",
       "      <th>0</th>\n",
       "      <th>1</th>\n",
       "      <th>All</th>\n",
       "    </tr>\n",
       "    <tr>\n",
       "      <th>Actual</th>\n",
       "      <th></th>\n",
       "      <th></th>\n",
       "      <th></th>\n",
       "    </tr>\n",
       "  </thead>\n",
       "  <tbody>\n",
       "    <tr>\n",
       "      <th>0</th>\n",
       "      <td>17877</td>\n",
       "      <td>104</td>\n",
       "      <td>17981</td>\n",
       "    </tr>\n",
       "    <tr>\n",
       "      <th>1</th>\n",
       "      <td>341</td>\n",
       "      <td>14</td>\n",
       "      <td>355</td>\n",
       "    </tr>\n",
       "    <tr>\n",
       "      <th>All</th>\n",
       "      <td>18218</td>\n",
       "      <td>118</td>\n",
       "      <td>18336</td>\n",
       "    </tr>\n",
       "  </tbody>\n",
       "</table>\n",
       "</div>"
      ],
      "text/plain": [
       "Predicted      0    1    All\n",
       "Actual                      \n",
       "0          17877  104  17981\n",
       "1            341   14    355\n",
       "All        18218  118  18336"
      ]
     },
     "execution_count": 39,
     "metadata": {},
     "output_type": "execute_result"
    }
   ],
   "source": [
    "from sklearn.ensemble import RandomForestClassifier\n",
    "\n",
    "\n",
    "rf = RandomForestClassifier().fit(X_train,y_train)\n",
    "pred = rf.predict(X_test)\n",
    "\n",
    "cm, tn, tp, fn, fp = confusion_matrix_as_df(y_test,pred,print_stats=True)\n",
    "print 'Kappa: {}'.format(cohen_kappa_score(y_test,pred))\n",
    "cm"
   ]
  },
  {
   "cell_type": "code",
   "execution_count": 40,
   "metadata": {
    "collapsed": false
   },
   "outputs": [
    {
     "name": "stdout",
     "output_type": "stream",
     "text": [
      "[ 0.04819717  0.09380487  0.54098171 ...,  0.04406615  0.01102277\n",
      "  0.01574115]\n",
      "[   2    1    0 4172 4174 4173   22   20   28   26]\n"
     ]
    }
   ],
   "source": [
    "# Random forest most important features\n",
    "print rf.feature_importances_\n",
    "print np.argsort(rf.feature_importances_)[::-1][:10]"
   ]
  },
  {
   "cell_type": "code",
   "execution_count": null,
   "metadata": {
    "collapsed": false
   },
   "outputs": [],
   "source": []
  },
  {
   "cell_type": "code",
   "execution_count": 41,
   "metadata": {
    "collapsed": false
   },
   "outputs": [
    {
     "data": {
      "text/html": [
       "<div>\n",
       "<style scoped>\n",
       "    .dataframe tbody tr th:only-of-type {\n",
       "        vertical-align: middle;\n",
       "    }\n",
       "\n",
       "    .dataframe tbody tr th {\n",
       "        vertical-align: top;\n",
       "    }\n",
       "\n",
       "    .dataframe thead th {\n",
       "        text-align: right;\n",
       "    }\n",
       "</style>\n",
       "<table border=\"1\" class=\"dataframe\">\n",
       "  <thead>\n",
       "    <tr style=\"text-align: right;\">\n",
       "      <th></th>\n",
       "      <th>duration</th>\n",
       "      <th>unique_items_seen</th>\n",
       "      <th>total_clicks</th>\n",
       "      <th>No Category</th>\n",
       "      <th>Special Offer</th>\n",
       "      <th>Regular Category</th>\n",
       "    </tr>\n",
       "    <tr>\n",
       "      <th>session_id</th>\n",
       "      <th></th>\n",
       "      <th></th>\n",
       "      <th></th>\n",
       "      <th></th>\n",
       "      <th></th>\n",
       "      <th></th>\n",
       "    </tr>\n",
       "  </thead>\n",
       "  <tbody>\n",
       "    <tr>\n",
       "      <th>11525049</th>\n",
       "      <td>4.216667</td>\n",
       "      <td>2</td>\n",
       "      <td>2</td>\n",
       "      <td>0</td>\n",
       "      <td>2</td>\n",
       "      <td>0</td>\n",
       "    </tr>\n",
       "    <tr>\n",
       "      <th>11538456</th>\n",
       "      <td>60.583333</td>\n",
       "      <td>2</td>\n",
       "      <td>3</td>\n",
       "      <td>0</td>\n",
       "      <td>3</td>\n",
       "      <td>0</td>\n",
       "    </tr>\n",
       "    <tr>\n",
       "      <th>4817</th>\n",
       "      <td>2.483333</td>\n",
       "      <td>2</td>\n",
       "      <td>3</td>\n",
       "      <td>3</td>\n",
       "      <td>0</td>\n",
       "      <td>0</td>\n",
       "    </tr>\n",
       "    <tr>\n",
       "      <th>17074</th>\n",
       "      <td>0.000000</td>\n",
       "      <td>1</td>\n",
       "      <td>1</td>\n",
       "      <td>1</td>\n",
       "      <td>0</td>\n",
       "      <td>0</td>\n",
       "    </tr>\n",
       "    <tr>\n",
       "      <th>11539714</th>\n",
       "      <td>32.333333</td>\n",
       "      <td>2</td>\n",
       "      <td>4</td>\n",
       "      <td>0</td>\n",
       "      <td>0</td>\n",
       "      <td>4</td>\n",
       "    </tr>\n",
       "  </tbody>\n",
       "</table>\n",
       "</div>"
      ],
      "text/plain": [
       "             duration  unique_items_seen  total_clicks  No Category  \\\n",
       "session_id                                                            \n",
       "11525049     4.216667                  2             2            0   \n",
       "11538456    60.583333                  2             3            0   \n",
       "4817         2.483333                  2             3            3   \n",
       "17074        0.000000                  1             1            1   \n",
       "11539714    32.333333                  2             4            0   \n",
       "\n",
       "            Special Offer  Regular Category  \n",
       "session_id                                   \n",
       "11525049                2                 0  \n",
       "11538456                3                 0  \n",
       "4817                    0                 0  \n",
       "17074                   0                 0  \n",
       "11539714                0                 4  "
      ]
     },
     "execution_count": 41,
     "metadata": {},
     "output_type": "execute_result"
    }
   ],
   "source": [
    "#Top Features\n",
    "X_train.head().iloc[:,[2,1,0,4172,4174,4173]]"
   ]
  },
  {
   "cell_type": "code",
   "execution_count": null,
   "metadata": {
    "collapsed": false
   },
   "outputs": [],
   "source": [
    "df1[df1['buy'] == 1].describe()[['Fri','Mon','Tue','Wed','Thu','Sat','Sun']].sort_values('mean',axis=1)"
   ]
  },
  {
   "cell_type": "code",
   "execution_count": null,
   "metadata": {
    "collapsed": false
   },
   "outputs": [],
   "source": [
    "df1[df1['buy'] == 0].describe()[['Fri','Mon','Tue','Wed','Thu','Sat','Sun']].sort_values('mean',axis=1)"
   ]
  },
  {
   "cell_type": "code",
   "execution_count": null,
   "metadata": {
    "collapsed": false
   },
   "outputs": [],
   "source": []
  }
 ],
 "metadata": {
  "kernelspec": {
   "display_name": "Python 2",
   "language": "python",
   "name": "python2"
  },
  "language_info": {
   "codemirror_mode": {
    "name": "ipython",
    "version": 2
   },
   "file_extension": ".py",
   "mimetype": "text/x-python",
   "name": "python",
   "nbconvert_exporter": "python",
   "pygments_lexer": "ipython2",
   "version": "2.7.13"
  }
 },
 "nbformat": 4,
 "nbformat_minor": 2
}
